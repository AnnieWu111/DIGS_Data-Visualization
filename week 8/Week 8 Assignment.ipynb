{
 "cells": [
  {
   "cell_type": "markdown",
   "id": "32223727-9ae0-4b50-9514-c30f9453fc7d",
   "metadata": {},
   "source": [
    "For this assignment, I chose to follow the dataset presented in class and made several specification and more interactions for it. First, I changed the original all-blue columns for all continents into different color schemes. For Asia I changed to reds, Europe into green, Americas into pink or magenta, Oceania into light blue, and Africa into yellow, which each symbolizes orientalism, green party and environmentalism in Europe, drought and the Sahara in Africa, patriotism and passion in Americas, and Oceania with the Pacific,  (might be a little bit stereotypical). \n",
    "\n",
    "I also realized that the table on the left is only sorted alphabetically without giving much details on the data itself (as it would always and only give countries like Afghanistan, Albania, Algeria...), so I also changed it with the most top 10s (of population, life expectancies, and GDP per capita) to see how it changes between countries and continents. \n",
    "\n",
    "Moreover, the interactive graph only provides the total numbers for each continent without specification of the countries. In order to provide a detailed presentation of the data within each continent, I generated a second graph that provides the detailed data of the top 10s countries in each continent. By adding an interactive bar, the viewer/user can click on the bar and choose which continent data they want to look at. In addition, within the presentation of each continent, the color scheme not only follows the colorization based on the graph for continents above, but further adds the sequence from dark to light to indicate the descending order as well. The smaller issue is that for each continents color, it seems that the color scheme is not necesarrily consistent that Magenta only has 4 color sequences whereas red has 9. "
   ]
  },
  {
   "cell_type": "code",
   "execution_count": 1,
   "id": "7236fb32-1f89-4b44-94b7-bcd1d3c9ddf7",
   "metadata": {},
   "outputs": [],
   "source": [
    "import wbdata\n",
    "import pandas as pd\n",
    "import plotly.express as px\n",
    "from datetime import datetime\n",
    "import numpy as np\n",
    "\n",
    "from dash import Dash, html, dash_table, dcc, callback, Output, Input\n",
    "import pandas as pd\n",
    "import plotly.express as px"
   ]
  },
  {
   "cell_type": "code",
   "execution_count": 16,
   "id": "cdd4dc6f-ed07-416a-8c1b-8f946904c7df",
   "metadata": {
    "scrolled": true
   },
   "outputs": [
    {
     "data": {
      "text/html": [
       "\n",
       "        <iframe\n",
       "            width=\"100%\"\n",
       "            height=\"650\"\n",
       "            src=\"http://127.0.0.1:8050/\"\n",
       "            frameborder=\"0\"\n",
       "            allowfullscreen\n",
       "            \n",
       "        ></iframe>\n",
       "        "
      ],
      "text/plain": [
       "<IPython.lib.display.IFrame at 0x11ab1c320>"
      ]
     },
     "metadata": {},
     "output_type": "display_data"
    }
   ],
   "source": [
    "df = pd.read_csv('https://raw.githubusercontent.com/plotly/datasets/master/gapminder2007.csv')\n",
    "\n",
    "# Define color mapping for continents with lighter shades\n",
    "continent_colors = {\n",
    "    'Asia': 'lightcoral',\n",
    "    'Europe': 'lightgreen',\n",
    "    'Americas': 'lightpink',\n",
    "    'Oceania': 'lightblue',\n",
    "    'Africa': 'lightyellow'\n",
    "}\n",
    "\n",
    "# Define color sequences for countries within each continent (for smooth light-to-dark transition)\n",
    "continent_color_sequences = {\n",
    "    'Asia': px.colors.sequential.Reds[::-1],  # Reverse to go from dark to light\n",
    "    'Europe': px.colors.sequential.Greens[::-1],\n",
    "    'Americas': px.colors.sequential.Magenta[::-1],  # Oranges as pink alternative\n",
    "    'Oceania': px.colors.sequential.Blues[::-1],\n",
    "    'Africa': px.colors.sequential.YlOrBr[::-1]  # Yellow-Orange-Brown reversed\n",
    "}\n",
    "\n",
    "# Initialize the app\n",
    "external_stylesheets = ['https://codepen.io/chriddyp/pen/bWLwgP.css']\n",
    "app = Dash(external_stylesheets=external_stylesheets)\n",
    "\n",
    "# App layout\n",
    "app.layout = html.Div([\n",
    "    html.Div('World Bank Data Display',\n",
    "             style={'textAlign': 'center', 'color': 'black', 'fontSize': 30}),\n",
    "\n",
    "    html.Div([\n",
    "        dcc.RadioItems(\n",
    "            options=[{'label': i, 'value': i} for i in ['pop', 'lifeExp', 'gdpPercap']],\n",
    "            value='lifeExp',\n",
    "            inline=True,\n",
    "            id='my-radio-buttons-final'\n",
    "        )\n",
    "    ]),\n",
    "\n",
    "    html.Div([\n",
    "        html.Div([\n",
    "            dash_table.DataTable(id='table-container', page_size=11, style_table={'overflowX': 'auto'})\n",
    "        ], className='six columns'),\n",
    "        html.Div([\n",
    "            dcc.Graph(id='histo-chart-final')\n",
    "        ], className='six columns')\n",
    "    ], className='row'),\n",
    "\n",
    "    html.Div([\n",
    "        dcc.Dropdown(\n",
    "            id='continent-dropdown',\n",
    "            options=[{'label': c, 'value': c} for c in df['continent'].unique()],\n",
    "            value=df['continent'].unique()[0],\n",
    "            clearable=False\n",
    "        )\n",
    "    ], style={'margin-top': '20px'}),\n",
    "\n",
    "    html.Div([\n",
    "        dcc.Graph(id='top10-chart')\n",
    "    ])\n",
    "])\n",
    "\n",
    "# Add controls to build the interaction\n",
    "@callback(\n",
    "    [Output('histo-chart-final', 'figure'),\n",
    "     Output('table-container', 'data'),\n",
    "     Output('top10-chart', 'figure')],\n",
    "    [Input('my-radio-buttons-final', 'value'),\n",
    "     Input('continent-dropdown', 'value')]\n",
    ")\n",
    "def update_content(col_chosen, selected_continent):\n",
    "    sorted_df = df.sort_values(by=col_chosen, ascending=False)\n",
    "\n",
    "    # Main histogram graph (continent-level)\n",
    "    fig = px.histogram(df, x='continent', y=col_chosen, histfunc='avg', \n",
    "                       color='continent', color_discrete_map=continent_colors)\n",
    "    \n",
    "    # Filter top 10 countries within selected continent\n",
    "    top10_df = df[df['continent'] == selected_continent].nlargest(10, col_chosen)\n",
    "\n",
    "    # Get a subset of colors (first 10 from reversed scale for dark-to-light effect)\n",
    "    color_sequence = continent_color_sequences[selected_continent][:10]\n",
    "\n",
    "    # Top 10 bar chart with dark-to-light coloring\n",
    "    top10_fig = px.bar(\n",
    "        top10_df, \n",
    "        x='country', \n",
    "        y=col_chosen, \n",
    "        title=f'Top 10 Countries in {selected_continent} by {col_chosen}', \n",
    "        color='country', \n",
    "        color_discrete_sequence=color_sequence,\n",
    "    )\n",
    "    top10_fig.update_layout(bargap=0.4)\n",
    "    \n",
    "    return fig, sorted_df.to_dict('records'), top10_fig\n",
    "\n",
    "# Run the app\n",
    "if __name__ == '__main__':\n",
    "    app.run_server(debug=True)\n"
   ]
  },
  {
   "cell_type": "code",
   "execution_count": null,
   "id": "6e6a77a2-48bc-4f01-bed3-09ffc36b6c7c",
   "metadata": {},
   "outputs": [],
   "source": []
  }
 ],
 "metadata": {
  "kernelspec": {
   "display_name": "Python 3 (ipykernel)",
   "language": "python",
   "name": "python3"
  },
  "language_info": {
   "codemirror_mode": {
    "name": "ipython",
    "version": 3
   },
   "file_extension": ".py",
   "mimetype": "text/x-python",
   "name": "python",
   "nbconvert_exporter": "python",
   "pygments_lexer": "ipython3",
   "version": "3.12.6"
  }
 },
 "nbformat": 4,
 "nbformat_minor": 5
}
